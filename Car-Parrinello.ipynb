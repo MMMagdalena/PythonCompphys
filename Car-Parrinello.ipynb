{
 "cells": [
  {
   "cell_type": "code",
   "execution_count": 1,
   "metadata": {},
   "outputs": [],
   "source": [
    "import math as m\n",
    "import numpy as np\n",
    "import matplotlib.pyplot as plt\n",
    "%matplotlib inline"
   ]
  },
  {
   "cell_type": "markdown",
   "metadata": {},
   "source": [
    "### References\n",
    "\n",
    "The referenced chapters, formulae and problems are from the book [Computational Physics, by Jos Thijssen](https://www.cambridge.org/core/books/computational-physics/BEE73B0139D4A9993193B57CDC62096E#fndtn-information).\n",
    "\n",
    "What follows is copied directly from hatree-fock.ipynb, check that one for details. The interesting new part is after this portion. If you already looked over the Hartree-Fock, you can skip it."
   ]
  },
  {
   "cell_type": "code",
   "execution_count": 2,
   "metadata": {},
   "outputs": [],
   "source": [
    "# 3.26, 4.16\n",
    "def Gaussian(alpha, r):\n",
    "    return m.exp(-alpha*r*r)"
   ]
  },
  {
   "cell_type": "code",
   "execution_count": 3,
   "metadata": {},
   "outputs": [],
   "source": [
    "alpha=(13.00773, 1.962079, 0.444529, 0.1219492)"
   ]
  },
  {
   "cell_type": "code",
   "execution_count": 4,
   "metadata": {},
   "outputs": [],
   "source": [
    "# see 4.114 and 4.116\n",
    "def F0(t):\n",
    "    if t==0:\n",
    "        return 1.\n",
    "    p = m.sqrt(t)\n",
    "    a = 1. / p\n",
    "    return a * m.sqrt(m.pi) / 2. * m.erf(p)"
   ]
  },
  {
   "cell_type": "code",
   "execution_count": 5,
   "metadata": {},
   "outputs": [],
   "source": [
    "# 4.98\n",
    "def Rp(alpha, beta, Ra, Rb):\n",
    "    return (alpha*Ra + beta*Rb) / (alpha + beta)"
   ]
  },
  {
   "cell_type": "code",
   "execution_count": 6,
   "metadata": {},
   "outputs": [],
   "source": [
    "# 4.100\n",
    "def OverlapTwoCenters(alpha, beta, Ra, Rb):\n",
    "    difR = Ra - Rb\n",
    "    len2 = difR.dot(difR)\n",
    "    aplusb = alpha + beta\n",
    "    ab = alpha * beta / aplusb\n",
    "    return m.pow(m.pi / aplusb, 3./2.) * m.exp(-ab * len2)"
   ]
  },
  {
   "cell_type": "code",
   "execution_count": 7,
   "metadata": {},
   "outputs": [],
   "source": [
    "# 4.103\n",
    "def KineticTwoCenters(alpha, beta, Ra, Rb):\n",
    "    difR = Ra - Rb\n",
    "    len2 = difR.dot(difR)\n",
    "    aplusb = alpha + beta\n",
    "    ab = alpha * beta / aplusb\n",
    "    O = m.pow(m.pi/aplusb, 3./2.) * m.exp(-ab * len2) # it's actually the overlap, check the OverlapTwoCenters\n",
    "    return ab * (3. - 2. * ab * len2) * O #this can be optimized with already computed overlap, see above"
   ]
  },
  {
   "cell_type": "code",
   "execution_count": 8,
   "metadata": {},
   "outputs": [],
   "source": [
    "# 4.115\n",
    "def Nuclear(alpha, beta, Ra, Rb, Rc, Z = 1.):\n",
    "    aplusb = alpha + beta\n",
    "    ab = alpha * beta / aplusb\n",
    "    difR = Ra - Rb\n",
    "    len2 = difR.dot(difR)\n",
    "    difRc = Rp(alpha, beta, Ra, Rb) - Rc\n",
    "    len2c = difRc.dot(difRc)\n",
    "    K = m.exp(-ab*len2)\n",
    "    return -2. * m.pi * Z / aplusb * K * F0(aplusb*len2c)"
   ]
  },
  {
   "cell_type": "code",
   "execution_count": 9,
   "metadata": {},
   "outputs": [],
   "source": [
    "# 4.123\n",
    "def TwoElectronTwoCenter(alpha, beta, gamma, delta, Ra, Rb, Rc, Rd):\n",
    "    RP = Rp(alpha, gamma, Ra, Rc)\n",
    "    RQ = Rp(beta, delta, Rb, Rd)\n",
    "    alphaplusgamma = alpha + gamma\n",
    "    betaplusdelta = beta + delta\n",
    "    Rac = Ra - Rc\n",
    "    Rbd = Rb - Rd\n",
    "    Rpq = RP - RQ\n",
    "    Racl2 = Rac.dot(Rac)\n",
    "    Rbdl2 = Rbd.dot(Rbd)\n",
    "    Rpql2 = Rpq.dot(Rpq)\n",
    "    return 2. * m.pow(m.pi, 5./2.) / (alphaplusgamma * betaplusdelta * m.sqrt(alphaplusgamma+betaplusdelta)) * \\\n",
    "           m.exp(-alpha*gamma/alphaplusgamma*Racl2 - beta*delta/betaplusdelta*Rbdl2) *\\\n",
    "           F0(alphaplusgamma*betaplusdelta / (alphaplusgamma+betaplusdelta) * Rpql2)"
   ]
  },
  {
   "cell_type": "code",
   "execution_count": 10,
   "metadata": {},
   "outputs": [],
   "source": [
    "basisSize = 4 # for each atom\n",
    "\n",
    "X = 1. # distance between atoms\n",
    "\n",
    "R0 = np.array([0, 0, 0])\n",
    "R1 = np.array([X, 0, 0])"
   ]
  },
  {
   "cell_type": "code",
   "execution_count": 11,
   "metadata": {},
   "outputs": [],
   "source": [
    "H = np.zeros((basisSize * 2, basisSize * 2))\n",
    "O = np.zeros((basisSize * 2, basisSize * 2))\n",
    "\n",
    "for i in range(basisSize):\n",
    "    a = alpha[i]\n",
    "    for j in range(basisSize):\n",
    "        b = alpha[j]\n",
    "        \n",
    "        O[i, j] = OverlapTwoCenters(a, b, R0, R0)\n",
    "        O[i, 4 + j] = OverlapTwoCenters(a, b, R0, R1)\n",
    "        O[4 + i, j] = O[i, 4 + j]\n",
    "        O[4 + i, 4 + j] = O[i, j]   \n",
    "        \n",
    "        H[i, j] = KineticTwoCenters(a, b, R0, R0) + Nuclear(a, b, R0, R0, R0) + Nuclear(a, b, R0, R0, R1)\n",
    "        H[i, 4 + j] = KineticTwoCenters(a, b, R0, R1) + Nuclear(a, b, R0, R1, R0) + Nuclear(a, b, R0, R1, R1)\n",
    "        H[4 + i, j] =  H[i, 4 + j]\n",
    "        H[4 + i, 4 + j] = H[i, j]"
   ]
  },
  {
   "cell_type": "code",
   "execution_count": 12,
   "metadata": {},
   "outputs": [],
   "source": [
    "Q = np.zeros((basisSize*2, basisSize*2, basisSize*2, basisSize*2))\n",
    "\n",
    "for i in range(basisSize):\n",
    "    a = alpha[i]\n",
    "    basisSizei = basisSize + i\n",
    "    for j in range(basisSize):\n",
    "        b = alpha[j]\n",
    "        basisSizej = basisSize + j\n",
    "        for k in range(basisSize):\n",
    "            c = alpha[k]\n",
    "            basisSizek = basisSize + k\n",
    "            for l in range(basisSize):\n",
    "                basisSizel = basisSize + l\n",
    "                d = alpha[l]        \n",
    "                \n",
    "                Q[i, j, k, l]=TwoElectronTwoCenter(a, b, c, d, R0, R0, R0, R0)\n",
    "                Q[i, j, k, basisSizel]=TwoElectronTwoCenter(a, b, c, d, R0, R0, R0, R1)\n",
    "                Q[i, j, basisSizek, l]=TwoElectronTwoCenter(a, b, c, d, R0, R0, R1, R0)\n",
    "                Q[i, j, basisSizek, basisSizel]=TwoElectronTwoCenter(a, b, c, d, R0, R0, R1, R1)\n",
    "                Q[i, basisSizej, k, l]=TwoElectronTwoCenter(a, b, c, d, R0, R1, R0, R0)\n",
    "                Q[i, basisSizej, k, basisSizel]=TwoElectronTwoCenter(a, b, c, d, R0, R1, R0, R1)\n",
    "                Q[i, basisSizej, basisSizek, l]=TwoElectronTwoCenter(a, b, c, d, R0, R1, R1, R0)\n",
    "                Q[i, basisSizej, basisSizek, basisSizel]=TwoElectronTwoCenter(a, b, c, d, R0, R1, R1, R1)\n",
    "                Q[basisSizei, j, k, l]=TwoElectronTwoCenter(a, b, c, d, R1, R0, R0, R0)\n",
    "                Q[basisSizei, j, k, basisSizel]=TwoElectronTwoCenter(a, b, c, d, R1, R0, R0, R1)\n",
    "                Q[basisSizei, j, basisSizek, l]=TwoElectronTwoCenter(a, b, c, d, R1, R0, R1, R0)\n",
    "                Q[basisSizei, j, basisSizek, basisSizel]=TwoElectronTwoCenter(a, b, c, d, R1, R0, R1, R1)\n",
    "                Q[basisSizei, basisSizej, k, l]=TwoElectronTwoCenter(a, b, c, d, R1, R1, R0, R0)\n",
    "                Q[basisSizei, basisSizej, k, basisSizel]=TwoElectronTwoCenter(a, b, c, d, R1, R1, R0, R1)\n",
    "                Q[basisSizei, basisSizej, basisSizek, l]=TwoElectronTwoCenter(a, b, c, d, R1, R1, R1, R0)\n",
    "                Q[basisSizei, basisSizej, basisSizek, basisSizel]=TwoElectronTwoCenter(a, b, c, d, R1, R1, R1, R1)  "
   ]
  },
  {
   "cell_type": "code",
   "execution_count": 13,
   "metadata": {},
   "outputs": [],
   "source": [
    "Qt = np.zeros((basisSize*2, basisSize*2, basisSize*2, basisSize*2))\n",
    "for p in range(2*basisSize):\n",
    "    for q in range(2*basisSize):\n",
    "        for r in range(2*basisSize):\n",
    "            for s in range(2*basisSize):\n",
    "                Qt[p, q, r, s] = 2. * Q[p, q, r, s] - Q[p, r, s, q]"
   ]
  },
  {
   "cell_type": "markdown",
   "metadata": {},
   "source": [
    "### Car-Parrinello\n",
    "\n",
    "From here is the new part, specific to Car-Parrinello method.\n",
    "\n",
    "#### First, the part from 9.3.1, Car-Parrinello only for the electronic part.\n",
    "\n",
    "The computation can take a while, maybe it's not a good idea to launch it in binder."
   ]
  },
  {
   "cell_type": "code",
   "execution_count": 14,
   "metadata": {},
   "outputs": [],
   "source": [
    "v = 0\n",
    "for i in range(2 * basisSize):\n",
    "    for j in range(2 * basisSize):\n",
    "        v += O[i, j]\n",
    "v = 1. / m.sqrt(v)\n",
    "\n",
    "C = np.array([v, v, v, v, v, v, v, v])\n",
    "Cprev = C.copy()\n",
    "\n",
    "dt = 0.1 # time step\n",
    "dt2 = dt * dt\n",
    "dt4 = dt2 * dt2\n",
    "gamma = 1. # frictional constant\n",
    "\n",
    "mass = 1\n",
    "massMinusGamma = mass - 0.5*gamma*dt\n",
    "massPlusGamma = mass + 0.5*gamma*dt\n",
    "\n",
    "numPoints = 50\n",
    "energies = np.zeros((numPoints))"
   ]
  },
  {
   "cell_type": "code",
   "execution_count": 15,
   "metadata": {},
   "outputs": [],
   "source": [
    "F = np.zeros((2*basisSize, 2*basisSize))\n",
    "oldE = 100\n",
    "\n",
    "for cycle in range(numPoints):\n",
    "\n",
    "    # Fock matrix computation\n",
    "    for i in range(2*basisSize):\n",
    "        for j in range(2*basisSize):\n",
    "            F[i, j] = H[i, j]\n",
    "            for k in range(2*basisSize):\n",
    "                for l in range(2*basisSize):\n",
    "                    F[i, j] += Qt[i, k, j, l] * C[k] * C[l]\n",
    "        \n",
    "    # compute energy\n",
    "    Eg = C.dot(H + F).dot(C) + 1. / X\n",
    "\n",
    "    #print(Eg)\n",
    "    \n",
    "    energies[cycle] = Eg\n",
    "    if abs(oldE-Eg) < 1E-12:\n",
    "        break    \n",
    "        \n",
    "    # Verlet\n",
    "                    \n",
    "    # compute Ct - 9.31, but with friction force added\n",
    "    \n",
    "    Ct = (2. * mass * C - massMinusGamma * Cprev - 4. * F.dot(C) * dt2) / massPlusGamma\n",
    "                \n",
    "    # determine lambda - see 9.32 - but be careful, it's wrong! Get it from 9.28 by replacing C[r] = Ct[r] - lambda * h^2 * sum(S[r, s]*C[s]), h^4 and h^2 are missing (here h is dt)\n",
    "     \n",
    "    OC = O.dot(C)\n",
    "    OCt = O.dot(Ct)\n",
    "    OOC = O.dot(OC)\n",
    "    \n",
    "    a = OOC.dot(OC) * dt4\n",
    "    b = -2. * OC.dot(OCt) * dt2\n",
    "    c = OCt.dot(Ct) - 1.\n",
    "    \n",
    "    delta = b*b - 4.*a*c\n",
    "    if delta < 0:\n",
    "        print(\"Delta negative!\")\n",
    "        break\n",
    "        \n",
    "    sdelta = m.sqrt(delta)\n",
    "    lam1 = (-b-sdelta) / (2. * a)\n",
    "    lam2 = (-b+sdelta) / (2. * a)\n",
    "\n",
    "    if lam1 < 0:\n",
    "        lam = lam2\n",
    "    else:\n",
    "        lam = lam1\n",
    "    \n",
    "    # now adjust the newly computed Cs    \n",
    "    \n",
    "    Ct -= lam * dt2 * OC\n",
    "        \n",
    "    # switch to the next step\n",
    "    Cprev = C\n",
    "    C = Ct            \n",
    "    oldE = Eg"
   ]
  },
  {
   "cell_type": "code",
   "execution_count": 16,
   "metadata": {},
   "outputs": [
    {
     "name": "stdout",
     "output_type": "stream",
     "text": [
      "-1.078146109224126\n"
     ]
    }
   ],
   "source": [
    "print(Eg)"
   ]
  },
  {
   "cell_type": "code",
   "execution_count": 17,
   "metadata": {},
   "outputs": [
    {
     "data": {
      "image/png": "[encoded data removed]",
      "text/plain": [
       "<Figure size 432x288 with 1 Axes>"
      ]
     },
     "metadata": {
      "needs_background": "light"
     },
     "output_type": "display_data"
    }
   ],
   "source": [
    "x = np.linspace(0, numPoints, numPoints)\n",
    "plt.plot(x, energies)\n",
    "plt.show()"
   ]
  },
  {
   "cell_type": "code",
   "execution_count": 18,
   "metadata": {},
   "outputs": [
    {
     "name": "stdout",
     "output_type": "stream",
     "text": [
      "[0.09420978 0.16749818 0.1130246  0.02398223 0.09420978 0.16749818\n",
      " 0.1130246  0.02398223]\n"
     ]
    }
   ],
   "source": [
    "print(C)"
   ]
  },
  {
   "cell_type": "markdown",
   "metadata": {},
   "source": [
    "#### Now, the nuclear motion from 9.3.2\n",
    "\n",
    "Now some derivatives for the nuclear motion molecular dynamics. Again, those could be optimized by passing overlap and so on. For example a lot of things are computed here and also re-computed in the calls of the functions inside. \n",
    "Also the computation would benefit from using symmetries to avoid computing many of the electron-electron integrals and also their derivative (it offers a roughly 8x speed improvement from this).\n",
    "I'm not going to bother, this is done in the C++ Hartree-Fock project, check that out for the details."
   ]
  },
  {
   "cell_type": "code",
   "execution_count": 19,
   "metadata": {},
   "outputs": [],
   "source": [
    "# 9.39\n",
    "def F0Deriv(t):\n",
    "    if t == 0:\n",
    "        return -1./3.\n",
    "    return (m.exp(-t) - F0(t))/(2. * t)"
   ]
  },
  {
   "cell_type": "code",
   "execution_count": 20,
   "metadata": {},
   "outputs": [],
   "source": [
    "# 9.34\n",
    "def OverlapTwoCentersDeriv(alpha, beta, Ra, Rb, X):\n",
    "    difR = Ra - Rb\n",
    "    X2 = difR.dot(difR)\n",
    "    if X2 == 0:\n",
    "        return 0        \n",
    "    return -2. * alpha * beta / (alpha + beta) * X * OverlapTwoCenters(alpha, beta, Ra, Rb)"
   ]
  },
  {
   "cell_type": "code",
   "execution_count": 21,
   "metadata": {},
   "outputs": [],
   "source": [
    "# 9.36\n",
    "def KineticTwoCentersDeriv(alpha, beta, Ra, Rb, X):\n",
    "    difR = Ra - Rb\n",
    "    len2 = difR.dot(difR)\n",
    "    if len2 == 0:\n",
    "        return 0\n",
    "    aplusb = alpha + beta\n",
    "    ab = alpha * beta / aplusb # sigma in the book\n",
    "    ab2 = ab * ab\n",
    "    return -4. * ab2 * X * OverlapTwoCenters(alpha, beta, Ra, Rb) + (3 * ab - 2 * ab2 * X * X) * OverlapTwoCentersDeriv(alpha, beta, Ra, Rb, X)"
   ]
  },
  {
   "cell_type": "code",
   "execution_count": 22,
   "metadata": {},
   "outputs": [],
   "source": [
    "# 9.40 and 9.41\n",
    "def NuclearDeriv(alpha, beta, Ra, Rb, X, Z = 1.):\n",
    "    aplusb = alpha + beta\n",
    "    theta = 2. * m.sqrt(aplusb/m.pi)\n",
    "    X2 = X * X\n",
    "    \n",
    "    difR = Ra - Rb\n",
    "    len2 = difR.dot(difR)\n",
    "    if len2 == 0:\n",
    "        return -2. * Z * theta * OverlapTwoCenters(alpha, beta, Ra, Rb) * F0Deriv(aplusb * X2) * X * aplusb # 9.40\n",
    "\n",
    "    alpha2 = alpha * alpha\n",
    "    beta2 = beta * beta\n",
    "    \n",
    "    t1 = alpha2 * X2 / aplusb # 9.42a\n",
    "    t2 = beta2 * X2 / aplusb  # 9.42b\n",
    "    \n",
    "    # 9.41\n",
    "    return -Z * theta * (OverlapTwoCentersDeriv(alpha, beta, Ra, Rb, X) * (F0(t1) + F0(t2)) + 2. / aplusb * X * OverlapTwoCenters(alpha, beta, Ra, Rb) * (F0Deriv(t1) * alpha2 + F0Deriv(t2) * beta2))"
   ]
  },
  {
   "cell_type": "code",
   "execution_count": 23,
   "metadata": {},
   "outputs": [],
   "source": [
    "# 9.47 - there is some renaming to have the same names as in TwoElectronTwoCenter\n",
    "def TwoElectronTwoCenterDeriv(alpha, beta, gamma, delta, Ra, Rb, Rc, Rd, X):   \n",
    "    RP = Rp(alpha, gamma, Ra, Rc) # 9.38\n",
    "    RQ = Rp(beta, delta, Rb, Rd) # 9.45        \n",
    "    alphaplusgamma = alpha + gamma\n",
    "    betaplusdelta = beta + delta\n",
    "    PQ = RP - RQ\n",
    "    PQ2 = PQ.dot(PQ)\n",
    "    cdiv = alphaplusgamma * betaplusdelta / (alphaplusgamma+betaplusdelta)\n",
    "\n",
    "    t = cdiv * PQ2 # 9.44\n",
    "    rho = 2. * m.sqrt(cdiv / m.pi) # 9.46\n",
    "    F0t = F0(t)\n",
    "        \n",
    "    return rho * (\n",
    "        (OverlapTwoCentersDeriv(alpha, gamma, Ra, Rc, X) * OverlapTwoCenters(beta, delta, Rb, Rd) + \n",
    "        OverlapTwoCenters(alpha, gamma, Ra, Rc) * OverlapTwoCentersDeriv(beta, delta, Rb, Rd, X)) * F0t +\n",
    "        OverlapTwoCenters(alpha, gamma, Ra, Rc) * OverlapTwoCenters(beta, delta, Rb, Rd) * F0Deriv(t) * cdiv * 2 * PQ2 / X\n",
    "    )"
   ]
  },
  {
   "cell_type": "code",
   "execution_count": 24,
   "metadata": {},
   "outputs": [],
   "source": [
    "HDeriv = np.zeros((basisSize * 2, basisSize * 2))\n",
    "ODeriv = np.zeros((basisSize * 2, basisSize * 2))\n",
    "QDeriv = np.zeros((basisSize*2, basisSize*2, basisSize*2, basisSize*2))\n",
    "QtDeriv = np.zeros((basisSize*2, basisSize*2, basisSize*2, basisSize*2))\n",
    "FDeriv = np.zeros((2*basisSize, 2*basisSize))"
   ]
  },
  {
   "cell_type": "markdown",
   "metadata": {},
   "source": [
    "Here is the interesting part:"
   ]
  },
  {
   "cell_type": "code",
   "execution_count": 25,
   "metadata": {},
   "outputs": [],
   "source": [
    "X = 1.35\n",
    "Xprev = X\n",
    "R1 = np.array([X, 0, 0])\n",
    "\n",
    "for i in range(basisSize):\n",
    "    a = alpha[i]\n",
    "    for j in range(basisSize):        \n",
    "        b = alpha[j]\n",
    "        O[i, j] = OverlapTwoCenters(a, b, R0, R0)\n",
    "        O[i, 4 + j] = OverlapTwoCenters(a, b, R0, R1)\n",
    "        O[4 + i, j] = O[i, 4 + j]\n",
    "        O[4 + i, 4 + j] = O[i, j]  \n",
    "            \n",
    "# reinitialize Cs\n",
    "v = 0\n",
    "for i in range(2 * basisSize):\n",
    "    for j in range(2 * basisSize):\n",
    "        v += O[i, j]\n",
    "v = 1. / m.sqrt(v)\n",
    "\n",
    "C = np.array([v, v, v, v, v, v, v, v])\n",
    "Cprev = C.copy()    \n",
    "\n",
    "M = 1836.5 * mass\n",
    "\n",
    "numPoints = 43\n",
    "\n",
    "Nucleardt = numPoints * dt # 4.3 (atomic units)\n",
    "Nucleardt2 = Nucleardt * Nucleardt\n",
    "\n",
    "numNuclearPoints = 300\n",
    "distances = np.zeros((numNuclearPoints))\n",
    "\n",
    "# friction stuff for nuclei\n",
    "\n",
    "Nucleargamma = 15. # set it to zero if you want no 'friction'\n",
    "\n",
    "MassMinusGamma = M - 0.5 * Nucleargamma * Nucleardt\n",
    "MassPlusGamma = M + 0.5 * Nucleargamma * Nucleardt"
   ]
  },
  {
   "cell_type": "code",
   "execution_count": 26,
   "metadata": {},
   "outputs": [],
   "source": [
    "for nuclearCycle in range(numNuclearPoints):\n",
    "       \n",
    "    # recompute each time since the atoms positions change each nuclear cycle\n",
    "        \n",
    "    for i in range(basisSize):\n",
    "        a = alpha[i]\n",
    "        for j in range(basisSize):        \n",
    "            b = alpha[j]\n",
    "            O[i, j] = OverlapTwoCenters(a, b, R0, R0)\n",
    "            O[i, 4 + j] = OverlapTwoCenters(a, b, R0, R1)\n",
    "            O[4 + i, j] = O[i, 4 + j]\n",
    "            O[4 + i, 4 + j] = O[i, j]  \n",
    "        \n",
    "            H[i, j] = KineticTwoCenters(a, b, R0, R0) + Nuclear(a, b, R0, R0, R0) + Nuclear(a, b, R0, R0, R1)\n",
    "            H[i, 4 + j] = KineticTwoCenters(a, b, R0, R1) + Nuclear(a, b, R0, R1, R0) + Nuclear(a, b, R0, R1, R1)\n",
    "            H[4 + i, j] =  H[i, 4 + j]\n",
    "            H[4 + i, 4 + j] = H[i, j] \n",
    "            \n",
    "            for k in range(basisSize):\n",
    "                c = alpha[k]\n",
    "                for l in range(basisSize):\n",
    "                    d = alpha[l]                                    \n",
    "                    Q[i, j, k, l]=TwoElectronTwoCenter(a, b, c, d, R0, R0, R0, R0)\n",
    "                    Q[i, j, k, basisSize+l]=TwoElectronTwoCenter(a, b, c, d, R0, R0, R0, R1)\n",
    "                    Q[i, j, basisSize+k, l]=TwoElectronTwoCenter(a, b, c, d, R0, R0, R1, R0)\n",
    "                    Q[i, j, basisSize+k, basisSize+l]=TwoElectronTwoCenter(a, b, c, d, R0, R0, R1, R1)\n",
    "                    Q[i, basisSize+j, k, l]=TwoElectronTwoCenter(a, b, c, d, R0, R1, R0, R0)\n",
    "                    Q[i, basisSize+j, k, basisSize+l]=TwoElectronTwoCenter(a, b, c, d, R0, R1, R0, R1)\n",
    "                    Q[i, basisSize+j, basisSize+k, l]=TwoElectronTwoCenter(a, b, c, d, R0, R1, R1, R0)\n",
    "                    Q[i, basisSize+j, basisSize+k, basisSize+l]=TwoElectronTwoCenter(a, b, c, d, R0, R1, R1, R1)\n",
    "                    Q[basisSize+i, j, k, l]=TwoElectronTwoCenter(a, b, c, d, R1, R0, R0, R0)\n",
    "                    Q[basisSize+i, j, k, basisSize+l]=TwoElectronTwoCenter(a, b, c, d, R1, R0, R0, R1)\n",
    "                    Q[basisSize+i, j, basisSize+k, l]=TwoElectronTwoCenter(a, b, c, d, R1, R0, R1, R0)\n",
    "                    Q[basisSize+i, j, basisSize+k, basisSize+l]=TwoElectronTwoCenter(a, b, c, d, R1, R0, R1, R1)\n",
    "                    Q[basisSize+i, basisSize+j, k, l]=TwoElectronTwoCenter(a, b, c, d, R1, R1, R0, R0)\n",
    "                    Q[basisSize+i, basisSize+j, k, basisSize+l]=TwoElectronTwoCenter(a, b, c, d, R1, R1, R0, R1)\n",
    "                    Q[basisSize+i, basisSize+j, basisSize+k, l]=TwoElectronTwoCenter(a, b, c, d, R1, R1, R1, R0)\n",
    "                    Q[basisSize+i, basisSize+j, basisSize+k, basisSize+l]=TwoElectronTwoCenter(a, b, c, d, R1, R1, R1, R1)       \n",
    "    \n",
    "    \n",
    "    for p in range(2*basisSize):\n",
    "        for q in range(2*basisSize):\n",
    "            for r in range(2*basisSize):\n",
    "                for s in range(2*basisSize):\n",
    "                    Qt[p, q, r, s] = 2. * Q[p, q, r, s] - Q[p, r, s, q]                    \n",
    "                    \n",
    "                 \n",
    "    # compute derivatives, similar for the other ones, but with removed computations for the same center for overlap and h derivatives, for the values that are zero\n",
    "    \n",
    "    for i in range(basisSize):        \n",
    "        a = alpha[i]\n",
    "        for j in range(basisSize):        \n",
    "            b = alpha[j]\n",
    "            ODeriv[i, 4 + j] = OverlapTwoCentersDeriv(a, b, R0, R1, X)\n",
    "            ODeriv[4 + i, j] = ODeriv[i, 4 + j]\n",
    "            \n",
    "            HDeriv[i, j] = NuclearDeriv(a, b, R0, R0, X)            \n",
    "            HDeriv[i, 4 + j] = NuclearDeriv(a, b, R0, R1, X) + KineticTwoCentersDeriv(a, b, R0, R1, X)\n",
    "            HDeriv[4 + i, j] = HDeriv[i, 4 + j]\n",
    "            HDeriv[4 + i, 4 + j] = HDeriv[i, j] \n",
    "    \n",
    "            for k in range(basisSize):\n",
    "                c = alpha[k]\n",
    "                for l in range(basisSize):\n",
    "                    d = alpha[l]                                    \n",
    "                    QDeriv[i, j, k, l]=TwoElectronTwoCenterDeriv(a, b, c, d, R0, R0, R0, R0, X)\n",
    "                    QDeriv[i, j, k, basisSize+l]=TwoElectronTwoCenterDeriv(a, b, c, d, R0, R0, R0, R1, X)\n",
    "                    QDeriv[i, j, basisSize+k, l]=TwoElectronTwoCenterDeriv(a, b, c, d, R0, R0, R1, R0, X)\n",
    "                    QDeriv[i, j, basisSize+k, basisSize+l]=TwoElectronTwoCenterDeriv(a, b, c, d, R0, R0, R1, R1, X)\n",
    "                    QDeriv[i, basisSize+j, k, l]=TwoElectronTwoCenterDeriv(a, b, c, d, R0, R1, R0, R0, X)\n",
    "                    QDeriv[i, basisSize+j, k, basisSize+l]=TwoElectronTwoCenterDeriv(a, b, c, d, R0, R1, R0, R1, X)\n",
    "                    QDeriv[i, basisSize+j, basisSize+k, l]=TwoElectronTwoCenterDeriv(a, b, c, d, R0, R1, R1, R0, X)\n",
    "                    QDeriv[i, basisSize+j, basisSize+k, basisSize+l]=TwoElectronTwoCenterDeriv(a, b, c, d, R0, R1, R1, R1, X)\n",
    "                    QDeriv[basisSize+i, j, k, l]=TwoElectronTwoCenterDeriv(a, b, c, d, R1, R0, R0, R0, X)\n",
    "                    QDeriv[basisSize+i, j, k, basisSize+l]=TwoElectronTwoCenterDeriv(a, b, c, d, R1, R0, R0, R1, X)\n",
    "                    QDeriv[basisSize+i, j, basisSize+k, l]=TwoElectronTwoCenterDeriv(a, b, c, d, R1, R0, R1, R0, X)\n",
    "                    QDeriv[basisSize+i, j, basisSize+k, basisSize+l]=TwoElectronTwoCenterDeriv(a, b, c, d, R1, R0, R1, R1, X)\n",
    "                    QDeriv[basisSize+i, basisSize+j, k, l]=TwoElectronTwoCenterDeriv(a, b, c, d, R1, R1, R0, R0, X)\n",
    "                    QDeriv[basisSize+i, basisSize+j, k, basisSize+l]=TwoElectronTwoCenterDeriv(a, b, c, d, R1, R1, R0, R1, X)\n",
    "                    QDeriv[basisSize+i, basisSize+j, basisSize+k, l]=TwoElectronTwoCenterDeriv(a, b, c, d, R1, R1, R1, R0, X)\n",
    "                    QDeriv[basisSize+i, basisSize+j, basisSize+k, basisSize+l]=TwoElectronTwoCenterDeriv(a, b, c, d, R1, R1, R1, R1, X)       \n",
    "     \n",
    "    \n",
    "    for p in range(2*basisSize):\n",
    "        for q in range(2*basisSize):\n",
    "            for r in range(2*basisSize):\n",
    "                for s in range(2*basisSize):\n",
    "                    QtDeriv[p, q, r, s] = 2. * QDeriv[p, q, r, s] - QDeriv[p, r, s, q]\n",
    "\n",
    "                    \n",
    "    # the electronic loop - it's identical with the one above that's done only for electronic part, with the energy computation moved out of it\n",
    "\n",
    "    for cycle in range(numPoints):\n",
    "\n",
    "        # Fock matrix computation\n",
    "        for i in range(2*basisSize):\n",
    "            for j in range(2*basisSize):\n",
    "                F[i, j] = H[i, j]\n",
    "                for k in range(2*basisSize):\n",
    "                    for l in range(2*basisSize):\n",
    "                        F[i, j] += Qt[i, k, j, l] * C[k] * C[l]\n",
    "                \n",
    "        # Verlet for electrons\n",
    "                    \n",
    "        # compute Ct - 9.31, but with friction force added\n",
    "            \n",
    "        Ct = (2. * mass * C - massMinusGamma * Cprev - 4. * F.dot(C) * dt2) / massPlusGamma\n",
    "                \n",
    "        # determine lambda - see 9.32 - but be careful, it's wrong! Get it from 9.28 by replacing C[r] = Ct[r] - lambda * h^2 * sum(S[r, s]*C[s]), h^4 and h^2 are missing (here h is dt)\n",
    "     \n",
    "        OC = O.dot(C)\n",
    "        OCt = O.dot(Ct)\n",
    "        OOC = O.dot(OC)\n",
    "    \n",
    "        a = OOC.dot(OC) * dt4\n",
    "        b = -2. * OC.dot(OCt) * dt2\n",
    "        c = OCt.dot(Ct) - 1.\n",
    "        \n",
    "        delta = b*b - 4.*a*c\n",
    "        if delta < 0:\n",
    "            print(\"Delta negative!\")\n",
    "            break\n",
    "        \n",
    "        sdelta = m.sqrt(delta)\n",
    "        lam1 = (-b-sdelta) / (2. * a)\n",
    "        lam2 = (-b+sdelta) / (2. * a)\n",
    "\n",
    "        if lam1 < 0:\n",
    "            lam = lam2\n",
    "        else:\n",
    "            lam = lam1\n",
    "    \n",
    "        # now adjust the newly computed Cs    \n",
    "    \n",
    "        Ct -= lam * dt2 * OC\n",
    "        \n",
    "        # switch to the next step\n",
    "        Cprev = C\n",
    "        C = Ct            \n",
    "                        \n",
    "        # end electronic loop\n",
    "        \n",
    "\n",
    "    # compute energy\n",
    "    #Eg = C.dot(H + F).dot(C) + 1. / X\n",
    "    #print(Eg)\n",
    "                        \n",
    "    # verlet for nuclear\n",
    "                     \n",
    "    for i in range(2*basisSize):\n",
    "        for j in range(2*basisSize):\n",
    "            FDeriv[i, j] = HDeriv[i, j]\n",
    "            for k in range(2*basisSize):\n",
    "                for l in range(2*basisSize):\n",
    "                    FDeriv[i, j] += QtDeriv[i, k, j, l] * C[k] * C[l]\n",
    "    \n",
    "    lam *= massPlusGamma * 0.5 # correction - there is a 2 factor in the lambda, also needs to be adjusted because of the massPlusGamma division\n",
    "                \n",
    "    # C.dot(ODeriv).dot(C) can be reduced to a quarter, knowing that diagonal sectors are zero\n",
    "    LambdaFactor = 0\n",
    "    for i in range(basisSize):\n",
    "        for j in range(basisSize):\n",
    "            LambdaFactor += ODeriv[basisSize + i, j] * C[basisSize + i] * C[j]\n",
    "            LambdaFactor += ODeriv[i, basisSize + j] * C[i] * C[basisSize + j]\n",
    "        \n",
    "    FNuclear = C.dot(HDeriv + FDeriv).dot(C) - 1. / (X * X) + lam * LambdaFactor\n",
    "    \n",
    "    Xnew = (2. * M * X - MassMinusGamma * Xprev - 2. * FNuclear * Nucleardt2) / MassPlusGamma\n",
    "        \n",
    "    # switch to the next step\n",
    "    Xprev = X\n",
    "    X = Xnew\n",
    "    \n",
    "    # also update the nuclei position\n",
    "    R1 = np.array([X, 0, 0]) \n",
    "    \n",
    "    distances[nuclearCycle] = X"
   ]
  },
  {
   "cell_type": "code",
   "execution_count": 27,
   "metadata": {},
   "outputs": [
    {
     "data": {
      "text/plain": [
       "[<matplotlib.lines.Line2D at 0x18de5484148>]"
      ]
     },
     "execution_count": 27,
     "metadata": {},
     "output_type": "execute_result"
    },
    {
     "data": {
      "image/png": "[encoded data removed]",
      "text/plain": [
       "<Figure size 432x288 with 1 Axes>"
      ]
     },
     "metadata": {
      "needs_background": "light"
     },
     "output_type": "display_data"
    }
   ],
   "source": [
    "x = np.linspace(0, numNuclearPoints, numNuclearPoints)\n",
    "plt.plot(x, distances)"
   ]
  },
  {
   "cell_type": "code",
   "execution_count": 28,
   "metadata": {},
   "outputs": [
    {
     "name": "stdout",
     "output_type": "stream",
     "text": [
      "1.387958948624326\n"
     ]
    }
   ],
   "source": [
    "print(X) # the experimental value given in the book is 1.401, the equilibrium with Hartree-Fock using only s-type orbitals is 1.3881"
   ]
  },
  {
   "cell_type": "code",
   "execution_count": null,
   "metadata": {},
   "outputs": [],
   "source": []
  }
 ],
 "metadata": {
  "kernelspec": {
   "display_name": "Python 3",
   "language": "python",
   "name": "python3"
  },
  "language_info": {
   "codemirror_mode": {
    "name": "ipython",
    "version": 3
   },
   "file_extension": ".py",
   "mimetype": "text/x-python",
   "name": "python",
   "nbconvert_exporter": "python",
   "pygments_lexer": "ipython3",
   "version": "3.7.7"
  }
 },
 "nbformat": 4,
 "nbformat_minor": 4
}
