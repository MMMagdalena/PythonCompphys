{
 "cells": [
  {
   "cell_type": "code",
   "execution_count": 1,
   "metadata": {},
   "outputs": [],
   "source": [
    "import math as m\n",
    "import numpy as np\n",
    "from scipy.linalg import eigh\n",
    "import matplotlib.pyplot as plt\n",
    "%matplotlib inline"
   ]
  },
  {
   "cell_type": "markdown",
   "metadata": {},
   "source": [
    "### References\n",
    "\n",
    "The referenced chapters, formulae and problems are from the book [Computational Physics, by Jos Thijssen](https://www.cambridge.org/core/books/computational-physics/BEE73B0139D4A9993193B57CDC62096E#fndtn-information).\n",
    "\n",
    "Work in progress, might be wrong!\n",
    "\n",
    "What follows is copied directly from hatree-fock.ipynb, check that one for details. The interesting new part is after this portion. If you already looked over the Hartree-Fock, you can skip it."
   ]
  },
  {
   "cell_type": "code",
   "execution_count": 2,
   "metadata": {},
   "outputs": [],
   "source": [
    "# 3.26, 4.16\n",
    "def Gaussian(alpha, r):\n",
    "    return m.exp(-alpha*r*r);"
   ]
  },
  {
   "cell_type": "code",
   "execution_count": 3,
   "metadata": {},
   "outputs": [],
   "source": [
    "alpha=(13.00773, 1.962079, 0.444529, 0.1219492);"
   ]
  },
  {
   "cell_type": "code",
   "execution_count": 4,
   "metadata": {},
   "outputs": [],
   "source": [
    "# see 4.114 and 4.116\n",
    "def F0(t):\n",
    "    p = m.sqrt(t);\n",
    "    if t==0:\n",
    "        return 1.;\n",
    "    a = 1. / p;\n",
    "    return a * m.sqrt(m.pi) / 2. * m.erf(p);"
   ]
  },
  {
   "cell_type": "code",
   "execution_count": 5,
   "metadata": {},
   "outputs": [],
   "source": [
    "# 4.98\n",
    "def Rp(alpha, beta, Ra, Rb):\n",
    "    return (alpha*Ra + beta*Rb) / (alpha + beta);"
   ]
  },
  {
   "cell_type": "code",
   "execution_count": 6,
   "metadata": {},
   "outputs": [],
   "source": [
    "# 4.100\n",
    "def OverlapTwoCenters(alpha, beta, Ra, Rb):\n",
    "    difR = Ra - Rb;\n",
    "    len2 = np.dot(difR, difR);\n",
    "    aplusb = alpha + beta;\n",
    "    ab = alpha * beta / aplusb;\n",
    "    return m.pow(m.pi / aplusb, 3./2.) * m.exp(-ab * len2);"
   ]
  },
  {
   "cell_type": "code",
   "execution_count": 7,
   "metadata": {},
   "outputs": [],
   "source": [
    "# 4.103\n",
    "def KineticTwoCenters(alpha, beta, Ra, Rb): #this is correct, checked\n",
    "    difR = Ra - Rb;\n",
    "    len2 = np.dot(difR, difR);\n",
    "    aplusb = alpha + beta;\n",
    "    ab = alpha * beta / aplusb;\n",
    "    O = m.pow(m.pi/aplusb, 3./2.) * m.exp(-ab * len2); # it's actually the overlap, check the OverlapTwoCenters\n",
    "    return ab * (3. - 2. * ab * len2) * O; #this can be optimized with already computed overlap, see above"
   ]
  },
  {
   "cell_type": "code",
   "execution_count": 8,
   "metadata": {},
   "outputs": [],
   "source": [
    "# 4.115\n",
    "def Nuclear(alpha, beta, Ra, Rb, Rc, Z = 1.):\n",
    "    aplusb = alpha + beta;\n",
    "    ab = alpha * beta / aplusb;\n",
    "    difR = Ra - Rb;\n",
    "    len2 = np.dot(difR, difR);\n",
    "    difRc = Rp(alpha, beta, Ra, Rb) - Rc;\n",
    "    len2c = np.dot(difRc, difRc);\n",
    "    K = m.exp(-ab*len2);\n",
    "    return -2. * m.pi * Z / aplusb * K * F0(aplusb*len2c);"
   ]
  },
  {
   "cell_type": "code",
   "execution_count": 9,
   "metadata": {},
   "outputs": [],
   "source": [
    "# 4.123\n",
    "def TwoElectronTwoCenter(alpha, beta, gamma, delta, Ra, Rb, Rc, Rd):\n",
    "    RP = Rp(alpha, gamma, Ra, Rc);\n",
    "    RQ = Rp(beta, delta, Rb, Rd);\n",
    "    alphaplusgamma = alpha + gamma;\n",
    "    betaplusdelta = beta + delta;\n",
    "    Rac = Ra - Rc;\n",
    "    Rbd = Rb - Rd;\n",
    "    Rpq = RP - RQ;\n",
    "    Racl2 = np.dot(Rac, Rac);\n",
    "    Rbdl2 = np.dot(Rbd, Rbd);\n",
    "    Rpql2 = np.dot(Rpq, Rpq);\n",
    "    return 2. * m.pow(m.pi, 5./2.) / (alphaplusgamma * betaplusdelta * m.sqrt(alphaplusgamma+betaplusdelta)) * \\\n",
    "           m.exp(-alpha*gamma/alphaplusgamma*Racl2 - beta*delta/betaplusdelta*Rbdl2) *\\\n",
    "           F0(alphaplusgamma*betaplusdelta / (alphaplusgamma+betaplusdelta) * Rpql2);"
   ]
  },
  {
   "cell_type": "code",
   "execution_count": 10,
   "metadata": {},
   "outputs": [],
   "source": [
    "basisSize = 4; # for each atom"
   ]
  },
  {
   "cell_type": "code",
   "execution_count": 11,
   "metadata": {},
   "outputs": [],
   "source": [
    "H = np.zeros((basisSize * 2, basisSize * 2));\n",
    "O = np.zeros((basisSize * 2, basisSize * 2));\n",
    "\n",
    "X = 1.; # distance between atoms\n",
    "\n",
    "R0 = np.array([0, 0, 0]);\n",
    "R1 = np.array([X, 0, 0]);\n",
    "for i in range(basisSize):\n",
    "    for j in range(basisSize):        \n",
    "        O[i][j] = OverlapTwoCenters(alpha[i], alpha[j], R0, R0);\n",
    "        O[4 + i][j] = OverlapTwoCenters(alpha[i], alpha[j], R1, R0);\n",
    "        O[i][4 + j] = OverlapTwoCenters(alpha[i], alpha[j], R0, R1);\n",
    "        O[4 + i][4 + j] = OverlapTwoCenters(alpha[i], alpha[j], R1, R1);                \n",
    "        H[i][j] = KineticTwoCenters(alpha[i], alpha[j], R0, R0) + Nuclear(alpha[i], alpha[j], R0, R0, R0) + Nuclear(alpha[i], alpha[j], R0, R0, R1);\n",
    "        H[4 + i][j] = KineticTwoCenters(alpha[i], alpha[j], R1, R0) + Nuclear(alpha[i], alpha[j], R1, R0, R0) + Nuclear(alpha[i], alpha[j], R1, R0, R1);\n",
    "        H[i][4 + j] = KineticTwoCenters(alpha[i], alpha[j], R0, R1) + Nuclear(alpha[i], alpha[j], R0, R1, R0) + Nuclear(alpha[i], alpha[j], R0, R1, R1);\n",
    "        H[4 + i][4 + j] = KineticTwoCenters(alpha[i], alpha[j], R1, R1) + Nuclear(alpha[i], alpha[j], R1, R1, R0) + Nuclear(alpha[i], alpha[j], R1, R1, R1);\n"
   ]
  },
  {
   "cell_type": "code",
   "execution_count": 12,
   "metadata": {},
   "outputs": [],
   "source": [
    "Q = np.zeros((basisSize*2, basisSize*2, basisSize*2, basisSize*2));\n",
    "for i in range(basisSize):\n",
    "    for j in range(basisSize):\n",
    "        for k in range(basisSize):\n",
    "            for l in range(basisSize):\n",
    "                Q[i][j][k][l]=TwoElectronTwoCenter(alpha[i], alpha[j], alpha[k], alpha[l], R0, R0, R0, R0);\n",
    "                Q[i][j][k][basisSize+l]=TwoElectronTwoCenter(alpha[i], alpha[j], alpha[k], alpha[l], R0, R0, R0, R1);\n",
    "                Q[i][j][basisSize+k][l]=TwoElectronTwoCenter(alpha[i], alpha[j], alpha[k], alpha[l], R0, R0, R1, R0);\n",
    "                Q[i][j][basisSize+k][basisSize+l]=TwoElectronTwoCenter(alpha[i], alpha[j], alpha[k], alpha[l], R0, R0, R1, R1);\n",
    "                Q[i][basisSize+j][k][l]=TwoElectronTwoCenter(alpha[i], alpha[j], alpha[k], alpha[l], R0, R1, R0, R0);\n",
    "                Q[i][basisSize+j][k][basisSize+l]=TwoElectronTwoCenter(alpha[i], alpha[j], alpha[k], alpha[l], R0, R1, R0, R1);\n",
    "                Q[i][basisSize+j][basisSize+k][l]=TwoElectronTwoCenter(alpha[i], alpha[j], alpha[k], alpha[l], R0, R1, R1, R0);\n",
    "                Q[i][basisSize+j][basisSize+k][basisSize+l]=TwoElectronTwoCenter(alpha[i], alpha[j], alpha[k], alpha[l], R0, R1, R1, R1);\n",
    "                Q[basisSize+i][j][k][l]=TwoElectronTwoCenter(alpha[i], alpha[j], alpha[k], alpha[l], R1, R0, R0, R0);\n",
    "                Q[basisSize+i][j][k][basisSize+l]=TwoElectronTwoCenter(alpha[i], alpha[j], alpha[k], alpha[l], R1, R0, R0, R1);\n",
    "                Q[basisSize+i][j][basisSize+k][l]=TwoElectronTwoCenter(alpha[i], alpha[j], alpha[k], alpha[l], R1, R0, R1, R0);\n",
    "                Q[basisSize+i][j][basisSize+k][basisSize+l]=TwoElectronTwoCenter(alpha[i], alpha[j], alpha[k], alpha[l], R1, R0, R1, R1);\n",
    "                Q[basisSize+i][basisSize+j][k][l]=TwoElectronTwoCenter(alpha[i], alpha[j], alpha[k], alpha[l], R1, R1, R0, R0);\n",
    "                Q[basisSize+i][basisSize+j][k][basisSize+l]=TwoElectronTwoCenter(alpha[i], alpha[j], alpha[k], alpha[l], R1, R1, R0, R1);\n",
    "                Q[basisSize+i][basisSize+j][basisSize+k][l]=TwoElectronTwoCenter(alpha[i], alpha[j], alpha[k], alpha[l], R1, R1, R1, R0);\n",
    "                Q[basisSize+i][basisSize+j][basisSize+k][basisSize+l]=TwoElectronTwoCenter(alpha[i], alpha[j], alpha[k], alpha[l], R1, R1, R1, R1);"
   ]
  },
  {
   "cell_type": "code",
   "execution_count": 13,
   "metadata": {},
   "outputs": [],
   "source": [
    "Qt = np.zeros((basisSize*2, basisSize*2, basisSize*2, basisSize*2));\n",
    "for p in range(2*basisSize):\n",
    "    for q in range(2*basisSize):\n",
    "        for r in range(2*basisSize):\n",
    "            for s in range(2*basisSize):\n",
    "                Qt[p][q][r][s] = 2. * Q[p][q][r][s] - Q[p][r][s][q];"
   ]
  },
  {
   "cell_type": "markdown",
   "metadata": {},
   "source": [
    "From here is the new part, specific to Car-Parrinello method.\n",
    "\n",
    "First, the part from 9.3.1, Car-Parrinello only for the electronic part.\n",
    "\n",
    "The computation can take a while, maybe it's not a good idea to launch it in binder."
   ]
  },
  {
   "cell_type": "code",
   "execution_count": 14,
   "metadata": {},
   "outputs": [],
   "source": [
    "v = 0;\n",
    "for i in range(2 * basisSize):\n",
    "    for j in range(2 * basisSize):\n",
    "        v += O[i][j];\n",
    "v = 1. / m.sqrt(v);\n",
    "\n",
    "C = np.array([v, v, v, v, v, v, v, v]);\n",
    "Cprev = C.copy();\n",
    "Ct = np.zeros((2 * basisSize));\n",
    "\n",
    "OC = np.zeros((2 * basisSize));\n",
    "OCt = np.zeros((2 * basisSize));\n",
    "OOC = np.zeros((2 * basisSize));\n",
    "\n",
    "dt = 0.1; # time step\n",
    "dt2 = dt * dt;\n",
    "dt4 = dt2 * dt2;\n",
    "gamma = 20.; # frictional constant\n",
    "\n",
    "#mass = 4.;\n",
    "OneMinusGamma = 1. - 0.5*gamma*dt;\n",
    "OnePlusGamma = 1. + 0.5*gamma*dt;\n",
    "\n",
    "numPoints = 1000; # 4000; # Use 4000 and get really close to the Hartree-Fock result\n",
    "energies = np.zeros((numPoints));"
   ]
  },
  {
   "cell_type": "code",
   "execution_count": 15,
   "metadata": {},
   "outputs": [],
   "source": [
    "F = np.zeros((2*basisSize, 2*basisSize));\n",
    "oldE = 100;\n",
    "for cycle in range(numPoints):\n",
    "\n",
    "    # Fock matrix computation\n",
    "    for i in range(2*basisSize):\n",
    "        for j in range(2*basisSize):\n",
    "            F[i][j] = H[i][j];\n",
    "            for k in range(2*basisSize):\n",
    "                for l in range(2*basisSize):\n",
    "                    F[i][j] += Qt[i][k][j][l] * C[k] * C[l];\n",
    "        \n",
    "    # compute energy\n",
    "    Eg = C.dot(H + F).dot(C) + 1. / X;\n",
    "\n",
    "    #print(Eg);\n",
    "    \n",
    "    energies[cycle] = Eg;\n",
    "    if abs(oldE-Eg) < 1E-12:\n",
    "        break;    \n",
    "        \n",
    "    # Verlet\n",
    "                    \n",
    "    # compute Ct - 9.31, but with friction force added - the formula is wrong, F gets divided by 4\n",
    "    \n",
    "    Ct = (2. * C - OneMinusGamma * Cprev - F.dot(C) / 4. * dt2) / OnePlusGamma;\n",
    "                \n",
    "    # determine lambda - see 9.32 - but be careful, it's wrong! Get it from 9.28 by replacing C[r] = Ct[r] - lambda * h^2 * sum(S[r][s]*C[s]), h^4 and h^2 are missing (here h is dt)\n",
    "     \n",
    "    OC = O.dot(C);\n",
    "    OCt = O.dot(Ct);\n",
    "    OOC = O.dot(OC);\n",
    "    \n",
    "    a = OOC.dot(OC) * dt4;\n",
    "    b = -2. * OC.dot(OCt) * dt2;\n",
    "    c = OCt.dot(Ct) - 1.;\n",
    "    \n",
    "    delta = b*b - 4.*a*c;\n",
    "    if delta < 0:\n",
    "        print(\"Delta negative!\");\n",
    "        break;\n",
    "    \n",
    "    lam = (-b-m.sqrt(delta)) / (2. * a);\n",
    "    if lam < 0:\n",
    "        lam = (-b+m.sqrt(delta)) / (2. * a);\n",
    "        if lam < 0:\n",
    "            print(\"Negative solutions!\");\n",
    "            break;\n",
    "\n",
    "    # now adjust the newly computed Cs    \n",
    "    \n",
    "    Ct -= lam * dt2 * OC;\n",
    "        \n",
    "    # switch to the next step\n",
    "    Cprev = C;\n",
    "    C = Ct;            \n",
    "    oldE = Eg;"
   ]
  },
  {
   "cell_type": "code",
   "execution_count": 16,
   "metadata": {},
   "outputs": [
    {
     "name": "stdout",
     "output_type": "stream",
     "text": [
      "-1.076459371077918\n"
     ]
    }
   ],
   "source": [
    "print(Eg);"
   ]
  },
  {
   "cell_type": "code",
   "execution_count": 17,
   "metadata": {},
   "outputs": [
    {
     "data": {
      "image/png": "[encoded data removed]",
      "text/plain": [
       "<Figure size 432x288 with 1 Axes>"
      ]
     },
     "metadata": {
      "needs_background": "light"
     },
     "output_type": "display_data"
    }
   ],
   "source": [
    "x = np.linspace(0, numPoints, numPoints);\n",
    "plt.plot(x, energies);"
   ]
  },
  {
   "cell_type": "code",
   "execution_count": 18,
   "metadata": {},
   "outputs": [
    {
     "name": "stdout",
     "output_type": "stream",
     "text": [
      "[0.08217006 0.14761569 0.12722025 0.01989657 0.08217006 0.14761569\n",
      " 0.12722025 0.01989657]\n"
     ]
    }
   ],
   "source": [
    "print(C);"
   ]
  },
  {
   "cell_type": "code",
   "execution_count": null,
   "metadata": {},
   "outputs": [],
   "source": []
  }
 ],
 "metadata": {
  "kernelspec": {
   "display_name": "Python 3",
   "language": "python",
   "name": "python3"
  },
  "language_info": {
   "codemirror_mode": {
    "name": "ipython",
    "version": 3
   },
   "file_extension": ".py",
   "mimetype": "text/x-python",
   "name": "python",
   "nbconvert_exporter": "python",
   "pygments_lexer": "ipython3",
   "version": "3.7.6"
  }
 },
 "nbformat": 4,
 "nbformat_minor": 4
}
