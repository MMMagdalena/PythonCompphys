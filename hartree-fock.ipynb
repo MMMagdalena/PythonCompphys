{
 "cells": [
  {
   "cell_type": "code",
   "execution_count": 1,
   "metadata": {},
   "outputs": [],
   "source": [
    "import math as m\n",
    "import numpy as np\n",
    "from scipy.linalg import eigh\n",
    "import matplotlib.pyplot as plt\n",
    "%matplotlib inline"
   ]
  },
  {
   "cell_type": "markdown",
   "metadata": {},
   "source": [
    "### References\n",
    "\n",
    "The referenced chapters, formulae and problems are from the book [Computational Physics, by Jos Thijssen](https://www.cambridge.org/core/books/computational-physics/BEE73B0139D4A9993193B57CDC62096E#fndtn-information).\n",
    "\n",
    "This is only introductory material for more advanced topics/code presented on the [Computational Physics Blog](https://compphys.go.ro).\n",
    "\n",
    "Related with Hartree-Fock I would recommend visiting:\n",
    "[How to solve a quantum many body problem](https://compphys.go.ro/how-to-solve-a-quantum-many-body-problem/) - on Born-Oppenheimer approximation, diagonalization and variational primciple (on this one you may find several other topics on the blog).\n",
    "\n",
    "[The Hartree-Fock program](https://compphys.go.ro/the-hartree-fock-program/) - describes a C++ project I have on GitHub: [HartreeFock](https://github.com/aromanro/HartreeFock) which goes way beyond the following simple issues.\n",
    "\n"
   ]
  },
  {
   "cell_type": "markdown",
   "metadata": {},
   "source": [
    "### From here, the variational Hydrogen computation, chapter 3\n",
    "\n",
    "We're starting using Gaussians as basis functions. Here only $\\Phi(r)=e^{-\\alpha r^2}$. For the more complex ones and the details on the many centers cases, please check out the blog and the C++ Hartree-Fock project."
   ]
  },
  {
   "cell_type": "code",
   "execution_count": 2,
   "metadata": {},
   "outputs": [],
   "source": [
    "# 3.26, 4.16\n",
    "def Gaussian(alpha, r):\n",
    "    return m.exp(-alpha*r*r);"
   ]
  },
  {
   "cell_type": "code",
   "execution_count": 3,
   "metadata": {},
   "outputs": [],
   "source": [
    "alpha=(13.00773, 1.962079, 0.444529, 0.1219492); # from 3.27\n",
    "#alpha=(14, 2, 0.5, 0.1); # try something different here to see how it affects the results"
   ]
  },
  {
   "cell_type": "markdown",
   "metadata": {},
   "source": [
    "Let's see how they look like:"
   ]
  },
  {
   "cell_type": "code",
   "execution_count": 4,
   "metadata": {},
   "outputs": [
    {
     "data": {
      "image/png": "[encoded data removed]",
      "text/plain": [
       "<Figure size 432x288 with 1 Axes>"
      ]
     },
     "metadata": {
      "needs_background": "light"
     },
     "output_type": "display_data"
    }
   ],
   "source": [
    "f = np.zeros((100, 4));\n",
    "r = np.linspace(0, 4, 100);\n",
    "for i in range(100):\n",
    "    for j in range(4):\n",
    "        f[i][j] = Gaussian(alpha[j], r[i]);\n",
    "        \n",
    "plt.plot(r, f);"
   ]
  },
  {
   "cell_type": "markdown",
   "metadata": {},
   "source": [
    "Integrals are very simple, the gaussians are centered in the same point (the nucleus), see eqn 3.29:"
   ]
  },
  {
   "cell_type": "code",
   "execution_count": 5,
   "metadata": {},
   "outputs": [],
   "source": [
    "def Overlap(alpha, ind1, ind2):\n",
    "    return m.pow(m.pi/(alpha[ind1] + alpha[ind2]), 3./2.);"
   ]
  },
  {
   "cell_type": "code",
   "execution_count": 6,
   "metadata": {},
   "outputs": [],
   "source": [
    "def Kinetic(alpha, ind1, ind2):\n",
    "    return 3*alpha[ind1]*alpha[ind2]*m.pow(m.pi, 3./2.)/m.pow(alpha[ind1] + alpha[ind2],5./2.);"
   ]
  },
  {
   "cell_type": "code",
   "execution_count": 7,
   "metadata": {},
   "outputs": [],
   "source": [
    "def Coulomb(alpha, ind1, ind2):\n",
    "    return -2 * m.pi / (alpha[ind1] + alpha[ind2]);"
   ]
  },
  {
   "cell_type": "markdown",
   "metadata": {},
   "source": [
    "The basis functions are not orthogonal, so we have to solve the generalized eigenvalue problem, using the overlap:"
   ]
  },
  {
   "cell_type": "code",
   "execution_count": 8,
   "metadata": {},
   "outputs": [],
   "source": [
    "basisSize = 4;"
   ]
  },
  {
   "cell_type": "code",
   "execution_count": 9,
   "metadata": {},
   "outputs": [],
   "source": [
    "H = np.zeros((basisSize, basisSize));\n",
    "O = np.zeros((basisSize, basisSize));\n",
    "for i in range(basisSize):\n",
    "    H[i][i] = Kinetic(alpha, i, i) + Coulomb(alpha, i, i);\n",
    "    O[i][i] = Overlap(alpha, i, i);\n",
    "    for j in range(i):\n",
    "        H[i][j] = Kinetic(alpha, i, j) + Coulomb(alpha, i, j);\n",
    "        O[i][j] = Overlap(alpha, i, j);\n",
    "        H[j][i] = H[i][j];\n",
    "        O[j][i] = O[i][j];"
   ]
  },
  {
   "cell_type": "code",
   "execution_count": 10,
   "metadata": {},
   "outputs": [],
   "source": [
    "eigvals, eigvecs = eigh(H, O, eigvals_only=False);"
   ]
  },
  {
   "cell_type": "code",
   "execution_count": 11,
   "metadata": {},
   "outputs": [
    {
     "name": "stdout",
     "output_type": "stream",
     "text": [
      "-0.4992784056674844\n"
     ]
    }
   ],
   "source": [
    "print(eigvals[0]);"
   ]
  },
  {
   "cell_type": "markdown",
   "metadata": {},
   "source": [
    "The exact result is -0.5 (here we use atomic units, the energy is in Hartrees).\n",
    "\n",
    "The result here is qite good (you can often do that if you know the exact result in advance). DFTAtom gets -0.445 (that's the expected result for LDA, check out [NIST](https://www.nist.gov/pml/atomic-reference-data-electronic-structure-calculations/atomic-reference-data-electronic-7-0)) and HartreeFock (unrestricted) with STO6G gets -0.471. With the Variational Quantum Monte Carlo project with STO6G I also got -0.471. As the problem is analytically solvable and one knows the result, it's no surprise that the result is so good. One just has to ensure that the space spanned by the basis vectors includes as much as possible of the real solution.\n",
    "\n",
    "Now let's look at the computed wavefunction together with the exact solution:"
   ]
  },
  {
   "cell_type": "code",
   "execution_count": 12,
   "metadata": {},
   "outputs": [],
   "source": [
    "def Wavefunction(alpha, eigenvecs, r, ind = 0):\n",
    "    v = 0.;\n",
    "    for i in range(basisSize):\n",
    "        v += eigenvecs[i][ind] * Gaussian(alpha[i], r);\n",
    "    return v;"
   ]
  },
  {
   "cell_type": "code",
   "execution_count": 13,
   "metadata": {},
   "outputs": [],
   "source": [
    "r = np.linspace(0, 2, 100);\n",
    "w = np.zeros((100, 2));\n",
    "for i in range(100):\n",
    "    w[i, 0] = np.abs(Wavefunction(alpha, eigvecs, r[i]));\n",
    "    w[i, 1] = 1. / np.sqrt(np.pi) * np.exp(-r[i]);"
   ]
  },
  {
   "cell_type": "code",
   "execution_count": 14,
   "metadata": {},
   "outputs": [
    {
     "data": {
      "image/png": "[encoded data removed]",
      "text/plain": [
       "<Figure size 432x288 with 1 Axes>"
      ]
     },
     "metadata": {
      "needs_background": "light"
     },
     "output_type": "display_data"
    }
   ],
   "source": [
    "plt.plot(r, w);"
   ]
  },
  {
   "cell_type": "markdown",
   "metadata": {},
   "source": [
    "### Chap 4, Helium computation"
   ]
  },
  {
   "cell_type": "code",
   "execution_count": 15,
   "metadata": {},
   "outputs": [],
   "source": [
    "alpha = (0.298073, 1.242567, 5.782948, 38.47497);"
   ]
  },
  {
   "cell_type": "code",
   "execution_count": 16,
   "metadata": {},
   "outputs": [],
   "source": [
    "# 4.11\n",
    "def TwoElectronSingleCenter(alpha, p, r, q, s):\n",
    "    return 2. * m.pow(m.pi, 5. / 2.) / ((alpha[p]+alpha[q])*(alpha[r]+alpha[s])*m.sqrt(alpha[p]+alpha[q]+alpha[r]+alpha[s]));"
   ]
  },
  {
   "cell_type": "code",
   "execution_count": 17,
   "metadata": {},
   "outputs": [],
   "source": [
    "H = np.zeros((basisSize, basisSize));\n",
    "O = np.zeros((basisSize, basisSize));\n",
    "Q = np.zeros((basisSize, basisSize, basisSize, basisSize));\n",
    "\n",
    "for i in range(basisSize):\n",
    "    for j in range(basisSize):\n",
    "        H[i][j] = Kinetic(alpha, i, j) + 2. * Coulomb(alpha, i, j); #the 2 is due of Z=2 for Helium\n",
    "        O[i][j] = Overlap(alpha, i, j);\n",
    "        for k in range(basisSize):\n",
    "            for l in range(basisSize):\n",
    "                Q[i][j][k][l]=TwoElectronSingleCenter(alpha, i, j, k, l);"
   ]
  },
  {
   "cell_type": "code",
   "execution_count": 18,
   "metadata": {},
   "outputs": [],
   "source": [
    "v = 0;\n",
    "for i in range(basisSize):\n",
    "    for j in range(basisSize):\n",
    "        v += O[i][j];\n",
    "v = 1. / m.sqrt(v);\n",
    "\n",
    "C = np.array([v, v, v, v]); # a choice for C to start with. Check the commented one instead\n",
    "#C = np.array([1, 1, 1, 1]);"
   ]
  },
  {
   "cell_type": "code",
   "execution_count": 19,
   "metadata": {},
   "outputs": [],
   "source": [
    "F = np.zeros((basisSize, basisSize));\n",
    "oldE = 100;\n",
    "for cycle in range(100):\n",
    "    \n",
    "    # 4.18\n",
    "    for i in range(basisSize):\n",
    "        for j in range(basisSize):\n",
    "            F[i][j] = H[i][j];\n",
    "            for k in range(basisSize):\n",
    "                for l in range(basisSize):\n",
    "                    F[i][j] += Q[i][k][j][l] * C[k] * C[l];\n",
    "\n",
    "    # 4.20\n",
    "    eigvals, eigvecs = eigh(F, O, eigvals_only=False);\n",
    "\n",
    "    C = eigvecs[:,0];\n",
    "\n",
    "    # 4.21\n",
    "    Eg = 0;\n",
    "    for i in range(basisSize):\n",
    "        for j in range(basisSize):\n",
    "            Eg += 2 * C[i] * C[j] * H[i][j];\n",
    "            for k in range(basisSize):\n",
    "                for l in range(basisSize):\n",
    "                    Eg += Q[i][k][j][l] * C[i] * C[j] * C[k] * C[l];\n",
    "    \n",
    "    if abs(oldE-Eg) < 1E-10:\n",
    "        break;\n",
    "    \n",
    "    oldE = Eg;"
   ]
  },
  {
   "cell_type": "code",
   "execution_count": 20,
   "metadata": {},
   "outputs": [
    {
     "name": "stdout",
     "output_type": "stream",
     "text": [
      "-2.855160382369244\n"
     ]
    }
   ],
   "source": [
    "print(Eg);"
   ]
  },
  {
   "cell_type": "markdown",
   "metadata": {},
   "source": [
    "HartreeFock with STO6G gets here -2.846 (but with a basis set with more Gaussians, you certainly can get better results), DFTAtom -2.8348 (again, that's normal for LDA: [NIST](https://www.nist.gov/pml/atomic-reference-data-electronic-structure-calculations/atomic-reference-data-electronic-7-1)) and the Variational Quantum Monte Carlo, -2.8759. The later 'beats' the result obtained here. "
   ]
  },
  {
   "cell_type": "markdown",
   "metadata": {},
   "source": [
    "### The first problem, H2+ (problem 4.8)\n",
    "\n",
    "Now we have two centers so intergrals get more complex. You may simplify some integrals computation by using the already computed overlap, such optimizations are left out from here, they exist in the C++ project. For the H2+, as there is a single electron, we don't need a self-consistency loop."
   ]
  },
  {
   "cell_type": "code",
   "execution_count": 21,
   "metadata": {},
   "outputs": [],
   "source": [
    "# see 4.114 and 4.116\n",
    "def F0(t):\n",
    "    p = m.sqrt(t);\n",
    "    if t==0:\n",
    "        return 1.;\n",
    "    a = 1. / p;\n",
    "    return a * m.sqrt(m.pi) / 2. * m.erf(p);"
   ]
  },
  {
   "cell_type": "code",
   "execution_count": 22,
   "metadata": {},
   "outputs": [],
   "source": [
    "# 4.98\n",
    "def Rp(alpha, beta, Ra, Rb):\n",
    "    return (alpha*Ra + beta*Rb) / (alpha + beta);"
   ]
  },
  {
   "cell_type": "code",
   "execution_count": 23,
   "metadata": {},
   "outputs": [],
   "source": [
    "# 4.100\n",
    "def OverlapTwoCenters(alpha, beta, Ra, Rb):\n",
    "    difR = Ra - Rb;\n",
    "    len2 = np.dot(difR, difR);\n",
    "    aplusb = alpha + beta;\n",
    "    ab = alpha * beta / aplusb;\n",
    "    return m.pow(m.pi / aplusb, 3./2.) * m.exp(-ab * len2);"
   ]
  },
  {
   "cell_type": "code",
   "execution_count": 24,
   "metadata": {},
   "outputs": [],
   "source": [
    "# 4.103\n",
    "def KineticTwoCenters(alpha, beta, Ra, Rb):\n",
    "    difR = Ra - Rb;\n",
    "    len2 = np.dot(difR, difR);\n",
    "    aplusb = alpha + beta;\n",
    "    ab = alpha * beta / aplusb;\n",
    "    O = m.pow(m.pi/aplusb, 3./2.) * m.exp(-ab * len2); # it's actually the overlap, check the OverlapTwoCenters\n",
    "    return ab * (3. - 2. * ab * len2) * O; #this can be optimized with already computed overlap, see above"
   ]
  },
  {
   "cell_type": "code",
   "execution_count": 25,
   "metadata": {},
   "outputs": [],
   "source": [
    "# 4.115\n",
    "def Nuclear(alpha, beta, Ra, Rb, Rc, Z = 1.):\n",
    "    aplusb = alpha + beta;\n",
    "    ab = alpha * beta / aplusb;\n",
    "    difR = Ra - Rb;\n",
    "    len2 = np.dot(difR, difR);\n",
    "    difRc = Rp(alpha, beta, Ra, Rb) - Rc;\n",
    "    len2c = np.dot(difRc, difRc);\n",
    "    K = m.exp(-ab*len2);\n",
    "    return -2. * m.pi * Z / aplusb * K * F0(aplusb*len2c);"
   ]
  },
  {
   "cell_type": "code",
   "execution_count": 26,
   "metadata": {},
   "outputs": [],
   "source": [
    "# 4.123\n",
    "def TwoElectronTwoCenter(alpha, beta, gamma, delta, Ra, Rb, Rc, Rd):\n",
    "    RP = Rp(alpha, gamma, Ra, Rc);\n",
    "    RQ = Rp(beta, delta, Rb, Rd);\n",
    "    alphaplusgamma = alpha + gamma;\n",
    "    betaplusdelta = beta + delta;\n",
    "    Rac = Ra - Rc;\n",
    "    Rbd = Rb - Rd;\n",
    "    Rpq = RP - RQ;\n",
    "    Racl2 = np.dot(Rac, Rac);\n",
    "    Rbdl2 = np.dot(Rbd, Rbd);\n",
    "    Rpql2 = np.dot(Rpq, Rpq);\n",
    "    return 2. * m.pow(m.pi, 5./2.) / (alphaplusgamma * betaplusdelta * m.sqrt(alphaplusgamma+betaplusdelta)) * \\\n",
    "           m.exp(-alpha*gamma/alphaplusgamma*Racl2 - beta*delta/betaplusdelta*Rbdl2) *\\\n",
    "           F0(alphaplusgamma*betaplusdelta / (alphaplusgamma+betaplusdelta) * Rpql2);"
   ]
  },
  {
   "cell_type": "code",
   "execution_count": 27,
   "metadata": {},
   "outputs": [],
   "source": [
    "alpha=(13.00773, 1.962079, 0.444529, 0.1219492);"
   ]
  },
  {
   "cell_type": "code",
   "execution_count": 28,
   "metadata": {},
   "outputs": [],
   "source": [
    "basisSize = 4; # for each atom"
   ]
  },
  {
   "cell_type": "code",
   "execution_count": 29,
   "metadata": {},
   "outputs": [],
   "source": [
    "H = np.zeros((basisSize * 2, basisSize * 2));\n",
    "O = np.zeros((basisSize * 2, basisSize * 2));\n",
    "R0 = np.array([0, 0, 0]);\n",
    "R1 = np.array([1, 0, 0]);\n",
    "for i in range(basisSize):\n",
    "    for j in range(basisSize):        \n",
    "        O[i][j] = OverlapTwoCenters(alpha[i], alpha[j], R0, R0);\n",
    "        O[4 + i][j] = OverlapTwoCenters(alpha[i], alpha[j], R1, R0);\n",
    "        O[i][4 + j] = OverlapTwoCenters(alpha[i], alpha[j], R0, R1);\n",
    "        O[4 + i][4 + j] = OverlapTwoCenters(alpha[i], alpha[j], R1, R1);                \n",
    "        H[i][j] = KineticTwoCenters(alpha[i], alpha[j], R0, R0) + Nuclear(alpha[i], alpha[j], R0, R0, R0) + Nuclear(alpha[i], alpha[j], R0, R0, R1);\n",
    "        H[4 + i][j] = KineticTwoCenters(alpha[i], alpha[j], R1, R0) + Nuclear(alpha[i], alpha[j], R1, R0, R0) + Nuclear(alpha[i], alpha[j], R1, R0, R1);\n",
    "        H[i][4 + j] = KineticTwoCenters(alpha[i], alpha[j], R0, R1) + Nuclear(alpha[i], alpha[j], R0, R1, R0) + Nuclear(alpha[i], alpha[j], R0, R1, R1);\n",
    "        H[4 + i][4 + j] = KineticTwoCenters(alpha[i], alpha[j], R1, R1) + Nuclear(alpha[i], alpha[j], R1, R1, R0) + Nuclear(alpha[i], alpha[j], R1, R1, R1);\n"
   ]
  },
  {
   "cell_type": "code",
   "execution_count": 30,
   "metadata": {},
   "outputs": [],
   "source": [
    "eigvals, eigvecs = eigh(H, O, eigvals_only=False);"
   ]
  },
  {
   "cell_type": "code",
   "execution_count": 31,
   "metadata": {},
   "outputs": [
    {
     "name": "stdout",
     "output_type": "stream",
     "text": [
      "[-1.4424553  -0.56337084 -0.38066859 -0.03273059  1.50321097  2.34128796\n",
      " 20.10200348 20.59185496]\n"
     ]
    }
   ],
   "source": [
    "print(eigvals);"
   ]
  },
  {
   "cell_type": "markdown",
   "metadata": {},
   "source": [
    "### Now the next problem, for H2 (problem 4.9) - here only the Hartree equation is solved\n",
    "\n",
    "Filling the Q tensor looks ugly but I think it's better to leave it like that. If you want, you may make it prettier by observing that you can count from 0 to 0xF and use the proper bit to select to pass R0 or R1 and to select the proper sector of the tensor."
   ]
  },
  {
   "cell_type": "code",
   "execution_count": 32,
   "metadata": {},
   "outputs": [],
   "source": [
    "Q = np.zeros((basisSize*2, basisSize*2, basisSize*2, basisSize*2));\n",
    "for i in range(basisSize):\n",
    "    for j in range(basisSize):\n",
    "        for k in range(basisSize):\n",
    "            for l in range(basisSize):\n",
    "                Q[i][j][k][l]=TwoElectronTwoCenter(alpha[i], alpha[j], alpha[k], alpha[l], R0, R0, R0, R0);\n",
    "                Q[i][j][k][basisSize+l]=TwoElectronTwoCenter(alpha[i], alpha[j], alpha[k], alpha[l], R0, R0, R0, R1);\n",
    "                Q[i][j][basisSize+k][l]=TwoElectronTwoCenter(alpha[i], alpha[j], alpha[k], alpha[l], R0, R0, R1, R0);\n",
    "                Q[i][j][basisSize+k][basisSize+l]=TwoElectronTwoCenter(alpha[i], alpha[j], alpha[k], alpha[l], R0, R0, R1, R1);\n",
    "                Q[i][basisSize+j][k][l]=TwoElectronTwoCenter(alpha[i], alpha[j], alpha[k], alpha[l], R0, R1, R0, R0);\n",
    "                Q[i][basisSize+j][k][basisSize+l]=TwoElectronTwoCenter(alpha[i], alpha[j], alpha[k], alpha[l], R0, R1, R0, R1);\n",
    "                Q[i][basisSize+j][basisSize+k][l]=TwoElectronTwoCenter(alpha[i], alpha[j], alpha[k], alpha[l], R0, R1, R1, R0);\n",
    "                Q[i][basisSize+j][basisSize+k][basisSize+l]=TwoElectronTwoCenter(alpha[i], alpha[j], alpha[k], alpha[l], R0, R1, R1, R1);\n",
    "                Q[basisSize+i][j][k][l]=TwoElectronTwoCenter(alpha[i], alpha[j], alpha[k], alpha[l], R1, R0, R0, R0);\n",
    "                Q[basisSize+i][j][k][basisSize+l]=TwoElectronTwoCenter(alpha[i], alpha[j], alpha[k], alpha[l], R1, R0, R0, R1);\n",
    "                Q[basisSize+i][j][basisSize+k][l]=TwoElectronTwoCenter(alpha[i], alpha[j], alpha[k], alpha[l], R1, R0, R1, R0);\n",
    "                Q[basisSize+i][j][basisSize+k][basisSize+l]=TwoElectronTwoCenter(alpha[i], alpha[j], alpha[k], alpha[l], R1, R0, R1, R1);\n",
    "                Q[basisSize+i][basisSize+j][k][l]=TwoElectronTwoCenter(alpha[i], alpha[j], alpha[k], alpha[l], R1, R1, R0, R0);\n",
    "                Q[basisSize+i][basisSize+j][k][basisSize+l]=TwoElectronTwoCenter(alpha[i], alpha[j], alpha[k], alpha[l], R1, R1, R0, R1);\n",
    "                Q[basisSize+i][basisSize+j][basisSize+k][l]=TwoElectronTwoCenter(alpha[i], alpha[j], alpha[k], alpha[l], R1, R1, R1, R0);\n",
    "                Q[basisSize+i][basisSize+j][basisSize+k][basisSize+l]=TwoElectronTwoCenter(alpha[i], alpha[j], alpha[k], alpha[l], R1, R1, R1, R1);\n",
    "                "
   ]
  },
  {
   "cell_type": "code",
   "execution_count": 33,
   "metadata": {},
   "outputs": [],
   "source": [
    "v = 0;\n",
    "for i in range(2 * basisSize):\n",
    "    for j in range(2 * basisSize):\n",
    "        v += O[i][j];\n",
    "v = 1. / m.sqrt(v);\n",
    "\n",
    "C = np.array([v, v, v, v, v, v, v, v]);"
   ]
  },
  {
   "cell_type": "code",
   "execution_count": 34,
   "metadata": {},
   "outputs": [],
   "source": [
    "F = np.zeros((2*basisSize, 2*basisSize));\n",
    "oldE = 100;\n",
    "for cycle in range(100):\n",
    "\n",
    "    for i in range(2*basisSize):\n",
    "        for j in range(2*basisSize):\n",
    "            F[i][j] = H[i][j];\n",
    "            for k in range(2*basisSize):\n",
    "                for l in range(2*basisSize):\n",
    "                    F[i][j] += Q[i][k][j][l] * C[k] * C[l];\n",
    "\n",
    "    eigvals, eigvecs = eigh(F, O, eigvals_only=False);\n",
    "\n",
    "    C = eigvecs[:,0];\n",
    "\n",
    "#    Eg = 0;\n",
    "#    for i in range(2*basisSize):\n",
    "#        for j in range(2*basisSize):\n",
    "#            Eg += 2 * C[i] * C[j] * H[i][j];\n",
    "#            for k in range(2*basisSize):\n",
    "#                for l in range(2*basisSize):\n",
    "#                    Eg += Q[i][k][j][l] * C[i] * C[j] * C[k] * C[l];\n",
    "\n",
    "    Eg = C.dot(H + F).dot(C);\n",
    "     \n",
    "    if abs(oldE-Eg) < 1E-10:\n",
    "        break;\n",
    "    \n",
    "    oldE = Eg;"
   ]
  },
  {
   "cell_type": "code",
   "execution_count": 35,
   "metadata": {},
   "outputs": [
    {
     "name": "stdout",
     "output_type": "stream",
     "text": [
      "-1.0785476087985755\n"
     ]
    }
   ],
   "source": [
    "print(Eg + 1); # +1 for nuclear repulsion energy"
   ]
  },
  {
   "cell_type": "code",
   "execution_count": 36,
   "metadata": {},
   "outputs": [
    {
     "name": "stdout",
     "output_type": "stream",
     "text": [
      "[-0.09256159 -0.16517996 -0.12012292 -0.02115447 -0.09256159 -0.16517996\n",
      " -0.12012292 -0.02115447]\n"
     ]
    }
   ],
   "source": [
    "print(C);"
   ]
  },
  {
   "cell_type": "markdown",
   "metadata": {},
   "source": [
    "### Now the next problem, for H2 (problem 4.12) - but now with Hartree-Fock\n",
    "\n",
    "Here there are a lot of optimizations suggested in the book - for the electron-electron integrals, one can reduce roughly to 1/8 the number of computed integrals using symmetry. Instead of solving the general eigenvalue problem each selfconsistency step you can go with solving only the regular eigenvalue problem, for details please check the book and the C++ HartreeFock project. I didn't want to go with those here."
   ]
  },
  {
   "cell_type": "code",
   "execution_count": 37,
   "metadata": {},
   "outputs": [],
   "source": [
    "Qt = np.zeros((basisSize*2, basisSize*2, basisSize*2, basisSize*2));\n",
    "for p in range(2*basisSize):\n",
    "    for q in range(2*basisSize):\n",
    "        for r in range(2*basisSize):\n",
    "            for s in range(2*basisSize):\n",
    "                Qt[p][q][r][s] = 2. * Q[p][q][r][s] - Q[p][r][s][q];"
   ]
  },
  {
   "cell_type": "code",
   "execution_count": 38,
   "metadata": {},
   "outputs": [],
   "source": [
    "C = np.array([v, v, v, v, v, v, v, v]); #reinitialize C"
   ]
  },
  {
   "cell_type": "code",
   "execution_count": 39,
   "metadata": {},
   "outputs": [],
   "source": [
    "# as above, but Hartree-Fock with Qt instead of Q\n",
    "F = np.zeros((2*basisSize, 2*basisSize));\n",
    "oldE = 100;\n",
    "for cycle in range(100):\n",
    "\n",
    "    for i in range(2*basisSize):\n",
    "        for j in range(2*basisSize):\n",
    "            F[i][j] = H[i][j];\n",
    "            for k in range(2*basisSize):\n",
    "                for l in range(2*basisSize):\n",
    "                    F[i][j] += Qt[i][k][j][l] * C[k] * C[l];\n",
    "\n",
    "    eigvals, eigvecs = eigh(F, O, eigvals_only=False);\n",
    "\n",
    "    C = eigvecs[:,0];\n",
    "    \n",
    "    Eg = C.dot(H + F).dot(C);\n",
    "       \n",
    "    if abs(oldE-Eg) < 1E-10:\n",
    "        break;\n",
    "    \n",
    "    oldE = Eg;"
   ]
  },
  {
   "cell_type": "code",
   "execution_count": 40,
   "metadata": {},
   "outputs": [
    {
     "name": "stdout",
     "output_type": "stream",
     "text": [
      "-1.0785476088069093\n"
     ]
    }
   ],
   "source": [
    "print(Eg + 1); # +1 for nuclear repulsion energy"
   ]
  },
  {
   "cell_type": "markdown",
   "metadata": {},
   "source": [
    "We obtain the same result as above, despite using Hartree-Fock, because we have only two electrons, one with spin up, one with down, so no spin-exchange.\n",
    "\n",
    "With the C++ Hartree-Fock project, restricted method with STO6G, the result is -1.0758. Again, with a better basis set the result could be much better. With the Variational Quantum Monte Carlo method I got -1.092, again, better than the result above."
   ]
  },
  {
   "cell_type": "code",
   "execution_count": 41,
   "metadata": {},
   "outputs": [
    {
     "name": "stdout",
     "output_type": "stream",
     "text": [
      "[0.09256159 0.16517996 0.12012292 0.02115447 0.09256159 0.16517996\n",
      " 0.12012292 0.02115447]\n"
     ]
    }
   ],
   "source": [
    "print(C);"
   ]
  },
  {
   "cell_type": "code",
   "execution_count": null,
   "metadata": {},
   "outputs": [],
   "source": []
  }
 ],
 "metadata": {
  "kernelspec": {
   "display_name": "Python 3",
   "language": "python",
   "name": "python3"
  },
  "language_info": {
   "codemirror_mode": {
    "name": "ipython",
    "version": 3
   },
   "file_extension": ".py",
   "mimetype": "text/x-python",
   "name": "python",
   "nbconvert_exporter": "python",
   "pygments_lexer": "ipython3",
   "version": "3.7.6"
  }
 },
 "nbformat": 4,
 "nbformat_minor": 4
}
